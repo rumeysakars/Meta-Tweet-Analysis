{
 "cells": [
  {
   "cell_type": "code",
   "execution_count": null,
   "metadata": {},
   "outputs": [],
   "source": [
    "%matplotlib inline\n",
    "\n",
    "import pandas as pd\n",
    "import json\n",
    "import networkx as nx\n",
    "import matplotlib.pyplot as plt\n",
    "import gzip\n",
    "import random\n",
    "import numpy as np\n",
    "\n",
    "from scipy import stats\n",
    "from operator import itemgetter\n",
    "import seaborn as sns\n",
    "\n",
    "import re"
   ]
  },
  {
   "cell_type": "code",
   "execution_count": null,
   "metadata": {},
   "outputs": [],
   "source": [
    "users = []\n",
    "with gzip.open('province_gender_available_metadata_added-220210.txt.gz', 'rb') as f:\n",
    "    for l in f:\n",
    "        user_object = json.loads(l)\n",
    "        users.append(user_object)"
   ]
  },
  {
   "cell_type": "code",
   "execution_count": null,
   "metadata": {},
   "outputs": [],
   "source": [
    "len(users)"
   ]
  },
  {
   "cell_type": "code",
   "execution_count": null,
   "metadata": {},
   "outputs": [],
   "source": [
    "users[1]"
   ]
  },
  {
   "cell_type": "code",
   "execution_count": null,
   "metadata": {},
   "outputs": [],
   "source": [
    "types=[]\n",
    "for user in users:\n",
    "    for tweet in user[\"tweets\"]:\n",
    "        if tweet[\"type\"] not in types:\n",
    "            types.append(tweet[\"type\"])\n",
    "        else:\n",
    "            continue\n",
    "\n",
    "print(types)"
   ]
  },
  {
   "cell_type": "code",
   "execution_count": null,
   "metadata": {},
   "outputs": [],
   "source": [
    "dict_dataframe= dict()\n",
    "created_at_user_list=[] #the time that tweet is sent from that account (either original, retweeted or fav)\n",
    "user_id_list=[] #the id of the user\n",
    "user_screen_name_list=[] #the screen name of the user\n",
    "tweet_id_list=[] #the id of the tweet\n",
    "text_list=[] #the tweet\n",
    "user_mentions_id_list=[] #the user that is the tweet is taken from\n",
    "\n",
    "in_reply_to_status_id_list=[] #the tweet id that that tweet is replying to\n",
    "in_reply_to_user_id_list=[] #the user id that that tweet is replying to\n",
    "\n",
    "retweeted_id_list=[] #the user id that that tweet is retweeted\n",
    "\n",
    "fav_user_id_list=[] #the user id that that tweet is faved.\n",
    "\n",
    "\n",
    "followers_count_list=[]"
   ]
  },
  {
   "cell_type": "code",
   "execution_count": null,
   "metadata": {},
   "outputs": [],
   "source": [
    "for user in users:\n",
    "    for tweet in user[\"tweets\"]:\n",
    "        if tweet[\"type\"]==\"retweet\":\n",
    "            created_at_user_list.append(user[\"created_at\"])\n",
    "            user_id_list.append(user[\"id_str\"])\n",
    "            user_screen_name_list.append(user[\"screen_name\"])\n",
    "            followers_count_list.append(user[\"followers_count\"])\n",
    "            text_list.append(tweet[\"ref_twt_txt\"])\n",
    "            tweet_id_list.append(tweet[\"ref_twt_id_str\"])\n",
    "            retweeted_id_list.append(tweet[\"ref_usr_id_str\"])\n",
    "            in_reply_to_status_id_list.append(np.nan)\n",
    "            in_reply_to_user_id_list.append(np.nan)\n",
    "            user_mentions_id_list.append(np.nan)\n",
    "            fav_user_id_list.append(np.nan)\n",
    "            \n",
    "        if tweet[\"type\"]==\"fav\":\n",
    "            created_at_user_list.append(user[\"created_at\"])\n",
    "            user_id_list.append(user[\"id_str\"])\n",
    "            user_screen_name_list.append(user[\"screen_name\"])\n",
    "            followers_count_list.append(user[\"followers_count\"])\n",
    "            text_list.append(tweet[\"ref_twt_txt\"])\n",
    "            tweet_id_list.append(tweet[\"ref_twt_id_str\"])\n",
    "            retweeted_id_list.append(np.nan)\n",
    "            in_reply_to_status_id_list.append(np.nan)\n",
    "            in_reply_to_user_id_list.append(np.nan)\n",
    "            user_mentions_id_list.append(np.nan)\n",
    "            fav_user_id_list.append(tweet[\"ref_usr_id_str\"])\n",
    "            \n",
    "        if tweet[\"type\"]==\"quote\":\n",
    "            created_at_user_list.append(user[\"created_at\"])\n",
    "            user_id_list.append(user[\"id_str\"])\n",
    "            user_screen_name_list.append(user[\"screen_name\"])\n",
    "            followers_count_list.append(user[\"followers_count\"])\n",
    "            text_list.append(tweet[\"ref_twt_txt\"])\n",
    "            tweet_id_list.append(tweet[\"twt_id_str\"])\n",
    "            retweeted_id_list.append(np.nan)\n",
    "            in_reply_to_status_id_list.append(np.nan)\n",
    "            in_reply_to_user_id_list.append(np.nan)\n",
    "            user_mentions_id_list.append(tweet[\"ref_usr_id_str\"])\n",
    "            fav_user_id_list.append(np.nan)\n",
    "            \n",
    "        if tweet[\"type\"]==\"reply\":\n",
    "            created_at_user_list.append(user[\"created_at\"])\n",
    "            user_id_list.append(user[\"id_str\"])\n",
    "            user_screen_name_list.append(user[\"screen_name\"])\n",
    "            followers_count_list.append(user[\"followers_count\"])\n",
    "            text_list.append(tweet[\"ref_twt_txt\"])\n",
    "            tweet_id_list.append(tweet[\"twt_id_str\"])\n",
    "            retweeted_id_list.append(np.nan)\n",
    "            in_reply_to_status_id_list.append(tweet[\"ref_usr_id_str\"])\n",
    "            in_reply_to_user_id_list.append(tweet[\"ref_twt_id_str\"])\n",
    "            user_mentions_id_list.append(tweet[\"ref_usr_id_str\"])\n",
    "            fav_user_id_list.append(np.nan)\n",
    "            \n",
    "        if tweet[\"type\"]==\"original\":\n",
    "            created_at_user_list.append(user[\"created_at\"])\n",
    "            user_id_list.append(user[\"id_str\"])\n",
    "            user_screen_name_list.append(user[\"screen_name\"])\n",
    "            followers_count_list.append(user[\"followers_count\"])\n",
    "            text_list.append(tweet[\"twt_txt\"])\n",
    "            tweet_id_list.append(tweet[\"twt_id_str\"])\n",
    "            retweeted_id_list.append(np.nan)\n",
    "            in_reply_to_status_id_list.append(np.nan)\n",
    "            in_reply_to_user_id_list.append(np.nan)\n",
    "            user_mentions_id_list.append(np.nan)\n",
    "            fav_user_id_list.append(np.nan)\n",
    "            "
   ]
  },
  {
   "cell_type": "code",
   "execution_count": null,
   "metadata": {
    "scrolled": true
   },
   "outputs": [],
   "source": [
    "print(\"user_id_list\",len(user_id_list))\n",
    "print(\"created_at_user_list\",len(created_at_user_list))\n",
    "print(\"user_screen_name_list\",len(user_screen_name_list))\n",
    "print(\"tweet_id_list\",len(tweet_id_list))\n",
    "print(\"text_list\",len(text_list))\n",
    "print(\"user_mentions_id_list\",len(user_mentions_id_list))\n",
    "print(\"in_reply_to_status_id_list\",len(in_reply_to_status_id_list))\n",
    "print(\"in_reply_to_user_id_list\",len(in_reply_to_user_id_list))\n",
    "print(\"retweeted_id_list\",len(retweeted_id_list))\n",
    "print(\"fav_user_id_list\",len(fav_user_id_list))\n"
   ]
  },
  {
   "cell_type": "code",
   "execution_count": null,
   "metadata": {},
   "outputs": [],
   "source": [
    "dict_dataframe[\"created_at_user\"] = created_at_user_list\n",
    "dict_dataframe[\"user_id\"] = user_id_list\n",
    "dict_dataframe[\"screen_name\"] = user_screen_name_list\n",
    "dict_dataframe[\"text\"] = text_list\n",
    "dict_dataframe[\"tweet_id\"] = tweet_id_list\n",
    "dict_dataframe[\"in_reply_to_status_id\"] = in_reply_to_status_id_list\n",
    "dict_dataframe[\"in_reply_to_user_id\"] = in_reply_to_user_id_list\n",
    "dict_dataframe[\"retweeted_id\"] = retweeted_id_list\n",
    "dict_dataframe[\"fav_user_id\"] = fav_user_id_list\n",
    "dict_dataframe[\"user_mentions_id\"] = user_mentions_id_list\n",
    "dict_dataframe[\"followers_count\"] = followers_count_list\n"
   ]
  },
  {
   "cell_type": "code",
   "execution_count": null,
   "metadata": {},
   "outputs": [],
   "source": [
    "df = pd.DataFrame(dict_dataframe)\n",
    "df = df.where((pd.notnull(df)), None)"
   ]
  },
  {
   "cell_type": "code",
   "execution_count": null,
   "metadata": {},
   "outputs": [],
   "source": [
    "df"
   ]
  },
  {
   "cell_type": "code",
   "execution_count": null,
   "metadata": {},
   "outputs": [],
   "source": [
    "def get_interactions(row):\n",
    "    user = row[\"user_id\"], row[\"screen_name\"]\n",
    "    if user[0] is None:\n",
    "        return (None, None), []\n",
    "\n",
    "    interactions = set()\n",
    "    interactions.add((row[\"in_reply_to_user_id\"]))\n",
    "    interactions.add((row[\"retweeted_id\"]))\n",
    "    interactions.add((row[\"fav_user_id\"]))\n",
    "    \n",
    "    interactions.discard((row[\"user_id\"], row[\"screen_name\"]))\n",
    "    interactions.discard((None, None))\n",
    "    \n",
    "    return user, interactions\n"
   ]
  },
  {
   "cell_type": "code",
   "execution_count": null,
   "metadata": {},
   "outputs": [],
   "source": [
    "graph = nx.Graph()"
   ]
  },
  {
   "cell_type": "code",
   "execution_count": null,
   "metadata": {},
   "outputs": [],
   "source": [
    "for index, tweet in df.iterrows():\n",
    "    user, interactions = get_interactions(tweet)\n",
    "    user_id, user_name = user\n",
    "    tweet_id = tweet[\"tweet_id\"]\n",
    "    for interaction in interactions:\n",
    "        int_id = interaction\n",
    "        graph.add_edge(user_id, int_id, tweet_id=tweet_id)"
   ]
  },
  {
   "cell_type": "code",
   "execution_count": null,
   "metadata": {},
   "outputs": [],
   "source": [
    "print(f\"There are {graph.number_of_nodes()} nodes and {graph.number_of_edges()} edges present in the Graph\")"
   ]
  },
  {
   "cell_type": "code",
   "execution_count": null,
   "metadata": {},
   "outputs": [],
   "source": [
    "degrees = [val for (node, val) in graph.degree()]"
   ]
  },
  {
   "cell_type": "code",
   "execution_count": null,
   "metadata": {},
   "outputs": [],
   "source": [
    "print(f\"The maximum degree of the Graph is {np.max(degrees)}\")   \n",
    "print(f\"The minimum degree of the Graph is {np.min(degrees)}\")"
   ]
  },
  {
   "cell_type": "code",
   "execution_count": null,
   "metadata": {},
   "outputs": [],
   "source": [
    "print(f\"The average degree of the nodes in the Graph is {np.mean(degrees):.1f}\")  \n",
    "print(f\"The most frequent degree of the nodes found in the Graph is {stats.mode(degrees)[0][0]}\")"
   ]
  },
  {
   "cell_type": "code",
   "execution_count": null,
   "metadata": {},
   "outputs": [],
   "source": [
    "if nx.is_connected(graph):\n",
    "    print(\"The graph is connected\")\n",
    "else:\n",
    "    print(\"The graph is not connected\")"
   ]
  },
  {
   "cell_type": "code",
   "execution_count": null,
   "metadata": {},
   "outputs": [],
   "source": [
    "#if the graph is not connected, then we can check the connected components in the inconnected craph. \n",
    "print(f\"There are {nx.number_connected_components(graph)} connected components in the Graph\")"
   ]
  },
  {
   "cell_type": "code",
   "execution_count": null,
   "metadata": {},
   "outputs": [],
   "source": [
    "largest_subgraph = max((graph.subgraph(c) for c in nx.connected_components(graph)), key=len)\n",
    "print(f\"There are {largest_subgraph.number_of_nodes()} nodes and {largest_subgraph.number_of_edges()} \\\n",
    "edges present in the largest component of the Graph\")"
   ]
  },
  {
   "cell_type": "code",
   "execution_count": null,
   "metadata": {},
   "outputs": [],
   "source": [
    "if nx.is_connected(largest_subgraph):\n",
    "    print(\"The graph is connected\")\n",
    "else:\n",
    "    print(\"The graph is not connected\")"
   ]
  },
  {
   "cell_type": "code",
   "execution_count": null,
   "metadata": {},
   "outputs": [],
   "source": [
    "print(f\"The average clustering coefficient is {nx.average_clustering(largest_subgraph)} in the largest subgraph\")\n",
    "print(f\"The transitivity of the largest subgraph is {nx.transitivity(largest_subgraph)}\")"
   ]
  },
  {
   "cell_type": "code",
   "execution_count": null,
   "metadata": {},
   "outputs": [],
   "source": [
    "graph_centrality = nx.degree_centrality(largest_subgraph)"
   ]
  },
  {
   "cell_type": "code",
   "execution_count": null,
   "metadata": {},
   "outputs": [],
   "source": [
    "max_de = max(graph_centrality.items(), key=itemgetter(1))"
   ]
  },
  {
   "cell_type": "code",
   "execution_count": null,
   "metadata": {},
   "outputs": [],
   "source": [
    "graph_closeness = nx.closeness_centrality(largest_subgraph)"
   ]
  },
  {
   "cell_type": "code",
   "execution_count": null,
   "metadata": {},
   "outputs": [],
   "source": [
    "max_clo = max(graph_closeness.items(), key=itemgetter(1))"
   ]
  },
  {
   "cell_type": "code",
   "execution_count": null,
   "metadata": {},
   "outputs": [],
   "source": [
    "graph_betweenness = nx.betweenness_centrality(largest_subgraph, normalized=True, endpoints=False)"
   ]
  },
  {
   "cell_type": "code",
   "execution_count": null,
   "metadata": {},
   "outputs": [],
   "source": [
    "max_bet = max(graph_betweenness.items(), key=itemgetter(1))"
   ]
  },
  {
   "cell_type": "code",
   "execution_count": null,
   "metadata": {},
   "outputs": [],
   "source": [
    "print(f\"the node with id {max_de[0]} has a degree centrality of {max_de[1]:.2f} which is the maximum of the Graph\")\n",
    "print(f\"the node with id {max_clo[0]} has a closeness centrality of {max_clo[1]:.2f} which is the maximum of the Graph\")\n",
    "print(f\"the node with id {max_bet[0]} has a betweenness centrality of {max_bet[1]:.2f} which is the maximum of the Graph\")"
   ]
  },
  {
   "cell_type": "code",
   "execution_count": null,
   "metadata": {},
   "outputs": [],
   "source": [
    "node_and_degree = largest_subgraph.degree()\n",
    "colors_central_nodes = ['orange', 'red']"
   ]
  },
  {
   "cell_type": "code",
   "execution_count": null,
   "metadata": {},
   "outputs": [],
   "source": [
    "pos = nx.spring_layout(largest_subgraph, k=0.05)"
   ]
  },
  {
   "cell_type": "code",
   "execution_count": null,
   "metadata": {},
   "outputs": [],
   "source": [
    "plt.figure(figsize = (20,20))\n",
    "nx.draw(largest_subgraph, pos=pos, node_color=range(1404), cmap=plt.cm.PiYG, edge_color=\"black\", linewidths=0.3, node_size=60, alpha=0.6, with_labels=False)\n",
    "nx.draw_networkx_nodes(largest_subgraph, pos=pos, nodelist=central_nodes, node_size=300, node_color=colors_central_nodes)\n",
    "#plt.savefig('graphfinal.png')\n",
    "plt.show()"
   ]
  },
  {
   "cell_type": "code",
   "execution_count": null,
   "metadata": {},
   "outputs": [],
   "source": []
  }
 ],
 "metadata": {
  "kernelspec": {
   "display_name": "Python 3",
   "language": "python",
   "name": "python3"
  },
  "language_info": {
   "codemirror_mode": {
    "name": "ipython",
    "version": 3
   },
   "file_extension": ".py",
   "mimetype": "text/x-python",
   "name": "python",
   "nbconvert_exporter": "python",
   "pygments_lexer": "ipython3",
   "version": "3.8.3"
  }
 },
 "nbformat": 4,
 "nbformat_minor": 4
}
